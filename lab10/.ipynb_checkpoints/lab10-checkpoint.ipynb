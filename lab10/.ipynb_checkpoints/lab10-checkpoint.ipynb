{
 "cells": [
  {
   "cell_type": "markdown",
   "metadata": {},
   "source": [
    "Лабораторная работа №10 “Градиентный бустинг”\n",
    "=====\n",
    "Лабораточная работа выполнена на языке **Python** c помощью интерактивной оболочки **Jupyter Notebook**.\n",
    "Исходный код работы - lab9.py.\n",
    "Файл jupyter notebook - lab9.ipynb.\n",
    "\n",
    "Для выполнения задания используется набор данных boston из библиотеки sklearn.\n",
    "\n",
    "## Ход работы"
   ]
  },
  {
   "cell_type": "markdown",
   "metadata": {},
   "source": [
    "#### Загружаем данные данные с помощью библиотеки sklearn"
   ]
  },
  {
   "cell_type": "code",
   "execution_count": 7,
   "metadata": {},
   "outputs": [],
   "source": [
    "import numpy as np\n",
    "import matplotlib.pyplot as plt\n",
    "import sklearn\n",
    "import sklearn.metrics\n",
    "import sklearn.datasets\n",
    "import sklearn.model_selection"
   ]
  },
  {
   "cell_type": "code",
   "execution_count": 8,
   "metadata": {},
   "outputs": [],
   "source": [
    "boston = sklearn.datasets.load_boston()"
   ]
  },
  {
   "cell_type": "markdown",
   "metadata": {},
   "source": [
    "#### Разделим выборку на обучающую (75%) и контрольную (25%)."
   ]
  },
  {
   "cell_type": "code",
   "execution_count": 9,
   "metadata": {},
   "outputs": [],
   "source": [
    "X_train, X_test, y_train, y_test = sklearn.model_selection.train_test_split(\n",
    "    boston.data.astype(np.float32), \n",
    "    boston.target, \n",
    "    test_size=0.25, \n",
    "    random_state=42\n",
    ")"
   ]
  },
  {
   "cell_type": "markdown",
   "metadata": {},
   "source": [
    "#### В цикле обучитим последовательно 50 решающих деревьев с параметрами max_depth=5 и random_state=42 (остальные параметры - по умолчанию). Используем коэффициент 0.9 для каждого отдельного дерева."
   ]
  },
  {
   "cell_type": "code",
   "execution_count": null,
   "metadata": {},
   "outputs": [],
   "source": [
    "def train_boosted(X, y, num_iters, get_weight, get_clf):\n",
    "    models = []\n",
    "    y = np.copy(y)\n",
    "    weights = np.ones(shape=(num_iters,))\n",
    "    for i in range(num_iters):\n",
    "        clf = get_clf()\n",
    "        clf.fit(X_train, y)\n",
    "        models.append(clf)\n",
    "        wi = get_weight(i)\n",
    "        weights[i] = wi\n",
    "        pred, loss = predict_boosted(models, X_train, y_train, weights)\n",
    "        h = clf.predict(X_train)\n",
    "        y = y - h * weights[i]\n",
    "\n",
    "    return models, weights"
   ]
  },
  {
   "cell_type": "markdown",
   "metadata": {},
   "source": [
    "#### Функция, которая вычисляет прогноз на уже построенных деревьях и оценивает качество работы алгоритма с помощью mean_squared_error в sklearn.metrics"
   ]
  },
  {
   "cell_type": "code",
   "execution_count": 10,
   "metadata": {},
   "outputs": [],
   "source": [
    "def predict_boosted(models, X, y, weights):\n",
    "    p = np.zeros(y.shape)\n",
    "    for i, model in enumerate(models):\n",
    "        p += model.predict(X) * weights[i]\n",
    "\n",
    "    loss = sklearn.metrics.mean_squared_error(y, p)\n",
    "    return p, loss"
   ]
  },
  {
   "cell_type": "code",
   "execution_count": null,
   "metadata": {},
   "outputs": [],
   "source": []
  }
 ],
 "metadata": {
  "kernelspec": {
   "display_name": "Python 3",
   "language": "python",
   "name": "python3"
  },
  "language_info": {
   "codemirror_mode": {
    "name": "ipython",
    "version": 3
   },
   "file_extension": ".py",
   "mimetype": "text/x-python",
   "name": "python",
   "nbconvert_exporter": "python",
   "pygments_lexer": "ipython3",
   "version": "3.7.4"
  }
 },
 "nbformat": 4,
 "nbformat_minor": 4
}
