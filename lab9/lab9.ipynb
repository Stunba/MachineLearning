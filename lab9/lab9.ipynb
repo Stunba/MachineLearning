{
 "cells": [
  {
   "cell_type": "markdown",
   "metadata": {},
   "source": [
    "Лабораторная работа №9 “Рекомендательные системы”\n",
    "====\n",
    "Лабораточная работа выполнена на языке **Python** c помощью интерактивной оболочки **Jupyter Notebook**.\n",
    "Исходный код работы - lab9.py.\n",
    "Файл jupyter notebook - lab9.ipynb.\n",
    "\n",
    "Набор данных ex9_movies.mat представляет собой файл формата *.mat (т.е. сохраненного из Matlab). Набор содержит две матрицы Y и R - рейтинг 1682 фильмов среди 943 пользователей. Значение Rij может быть равно 0 или 1 в зависимости от того оценил ли пользователь j фильм i. Матрица Y содержит числа от 1 до 5 - оценки в баллах пользователей, выставленные фильмам."
   ]
  },
  {
   "cell_type": "code",
   "execution_count": 2,
   "metadata": {},
   "outputs": [],
   "source": [
    "import numpy as np\n",
    "import matplotlib.pyplot as plt\n",
    "import scipy.io"
   ]
  },
  {
   "cell_type": "markdown",
   "metadata": {},
   "source": [
    "#### Загрузим данные ex9_movies.mat из файла."
   ]
  },
  {
   "cell_type": "code",
   "execution_count": 11,
   "metadata": {},
   "outputs": [],
   "source": [
    "data = scipy.io.loadmat('ex9_movies.mat')\n",
    "Y = data['Y']\n",
    "R = data['R']\n",
    "num_movies, num_users = Y.shape"
   ]
  },
  {
   "cell_type": "markdown",
   "metadata": {},
   "source": [
    "#### Функция стоимости для алгоритма с вычислением градиентов с регуляризацией."
   ]
  },
  {
   "cell_type": "code",
   "execution_count": 6,
   "metadata": {},
   "outputs": [],
   "source": [
    "def collaborative_filtering_cost(params, Y, R, num_users, num_movies, num_features, lambda_=0.0):\n",
    "    X = params[:num_movies * num_features].reshape(num_movies, num_features)\n",
    "    theta = params[num_movies * num_features:].reshape(num_users, num_features)\n",
    "    X_grad = np.zeros(X.shape)\n",
    "    theta_grad = np.zeros(theta.shape)\n",
    "    reg_term = (lambda_ / 2) * np.sum(np.square(X)) + (lambda_ / 2) * np.sum(np.square(theta))\n",
    "    J = (1 / 2) * np.sum(np.square((X.dot(theta.T) - Y) * R)) + reg_term\n",
    "    for i in range(num_movies):\n",
    "        idx = np.where(R[i, :] == 1)[0]\n",
    "        theta_i = theta[idx, :]\n",
    "        Y_i = Y[i, idx]\n",
    "        X_grad[i, :] = (X[i, :].dot(theta_i.T) - Y_i).dot(theta_i) + lambda_ * X[i, :]\n",
    "\n",
    "    for j in range(num_users):\n",
    "        idx = np.where(R[:, j] == 1)[0]\n",
    "        X_j = X[idx, :]\n",
    "        Y_j = Y[idx, j]\n",
    "        theta_grad[j, :] = (X_j.dot(theta[j, :]) - Y_j).dot(X_j) + lambda_ * theta[j, :]\n",
    "\n",
    "    grad = np.concatenate([X_grad.ravel(), theta_grad.ravel()])\n",
    "    return J, grad"
   ]
  },
  {
   "cell_type": "markdown",
   "metadata": {},
   "source": [
    "#### Обучитим модель с помощью усеченного алгоритма Ньютона (TNC) из scipy.optimize."
   ]
  },
  {
   "cell_type": "code",
   "execution_count": 18,
   "metadata": {},
   "outputs": [],
   "source": [
    "import scipy.optimize\n",
    "\n",
    "def fit_model(Y, R, num_features, lambda_=0.0):\n",
    "    num_movies, num_users = Y.shape\n",
    "    initial_X = np.random.randn(num_movies, num_features)\n",
    "    initial_theta = np.random.randn(num_users, num_features)\n",
    "\n",
    "    initial_parameters = np.concatenate([initial_X.ravel(), initial_theta.ravel()])\n",
    "    res = scipy.optimize.minimize(\n",
    "        lambda x: collaborative_filtering_cost(x, Ynorm, R, num_users, num_movies, num_features, lambda_),\n",
    "        initial_parameters,\n",
    "        method='TNC',\n",
    "        jac=True\n",
    "    )\n",
    "    params = res.x\n",
    "    X = params[:num_movies * num_features].reshape(num_movies, num_features)\n",
    "    theta = params[num_movies * num_features:].reshape(num_users, num_features)\n",
    "    return X, theta"
   ]
  },
  {
   "cell_type": "markdown",
   "metadata": {},
   "source": [
    "#### Добавим несколько оценок фильмов от себя."
   ]
  },
  {
   "cell_type": "code",
   "execution_count": 9,
   "metadata": {},
   "outputs": [],
   "source": [
    "def load_movies():\n",
    "    with open('movie_ids.txt',  encoding='ISO-8859-1') as file:\n",
    "        movies = file.readlines()\n",
    "\n",
    "    movie_names = []\n",
    "    for movie in movies:\n",
    "        parts = movie.split()\n",
    "        movie_names.append(' '.join(parts[1:]).strip())\n",
    "    return movie_names"
   ]
  },
  {
   "cell_type": "code",
   "execution_count": 12,
   "metadata": {},
   "outputs": [],
   "source": [
    "my_ratings = np.zeros(num_movies)\n",
    "my_ratings[22] = 4\n",
    "my_ratings[26] = 3\n",
    "my_ratings[49] = 5\n",
    "my_ratings[55] = 5\n",
    "my_ratings[63] = 5\n",
    "my_ratings[68] = 4\n",
    "my_ratings[71] = 5\n",
    "my_ratings[87] = 4\n",
    "my_ratings[93] = 5\n",
    "my_ratings[95] = 5\n",
    "my_ratings[119] = 2\n",
    "my_ratings[120] = 3\n",
    "my_ratings[143] = 5\n",
    "my_ratings[596] = 4\n",
    "my_ratings[391] = 4"
   ]
  },
  {
   "cell_type": "code",
   "execution_count": 13,
   "metadata": {},
   "outputs": [
    {
     "name": "stdout",
     "output_type": "stream",
     "text": [
      "My ratings:\n",
      "Taxi Driver (1976) was rated 4 stars\n",
      "Bad Boys (1995) was rated 3 stars\n",
      "Star Wars (1977) was rated 5 stars\n",
      "Pulp Fiction (1994) was rated 5 stars\n",
      "Shawshank Redemption, The (1994) was rated 5 stars\n",
      "Forrest Gump (1994) was rated 4 stars\n",
      "Mask, The (1994) was rated 5 stars\n",
      "Sleepless in Seattle (1993) was rated 4 stars\n",
      "Home Alone (1990) was rated 5 stars\n",
      "Terminator 2: Judgment Day (1991) was rated 5 stars\n",
      "Striptease (1996) was rated 2 stars\n",
      "Independence Day (ID4) (1996) was rated 3 stars\n",
      "Die Hard (1988) was rated 5 stars\n",
      "Man Without a Face, The (1993) was rated 4 stars\n",
      "Eraser (1996) was rated 4 stars\n"
     ]
    }
   ],
   "source": [
    "movies = load_movies()\n",
    "print('My ratings:')\n",
    "for i in np.where(my_ratings > 0)[0]:\n",
    "    print(f'{movies[i]} was rated {int(my_ratings[i])} stars')"
   ]
  },
  {
   "cell_type": "markdown",
   "metadata": {},
   "source": [
    "#### С помощью алгоритма колоборативной фильтрации получим собственные рекомендации."
   ]
  },
  {
   "cell_type": "code",
   "execution_count": 15,
   "metadata": {},
   "outputs": [],
   "source": [
    "def normalize_ratings(Y, R):\n",
    "    Ymean = np.zeros(Y.shape[0])\n",
    "    Ynorm = np.zeros(Y.shape)\n",
    "\n",
    "    for i in range(Y.shape[0]):\n",
    "        idx = R[i, :] == 1\n",
    "        Ymean[i] = np.mean(Y[i, idx])\n",
    "        Ynorm[i, idx] = Y[i, idx] - Ymean[i]\n",
    "\n",
    "    return Ynorm, Ymean"
   ]
  },
  {
   "cell_type": "code",
   "execution_count": 25,
   "metadata": {},
   "outputs": [],
   "source": [
    "num_features = 10\n",
    "Y = np.hstack([my_ratings[:, None], Y])\n",
    "R = np.hstack([(my_ratings > 0)[:, None], R])\n",
    "Ynorm, Ymean = normalize_ratings(Y, R)\n",
    "X, theta = fit_model(Y, R, num_features, lambda_=10)\n",
    "p = np.dot(X, theta.T)\n",
    "my_predictions = p[:, 0] + Ymean\n",
    "idx = np.argsort(my_predictions)[::-1]"
   ]
  },
  {
   "cell_type": "code",
   "execution_count": 26,
   "metadata": {},
   "outputs": [
    {
     "name": "stdout",
     "output_type": "stream",
     "text": [
      "Top 20 recomendations usign collaborative filtering:\n",
      "Predicting rating        5.0 for movie Great Day in Harlem, A (1994)\n",
      "Predicting rating        5.0 for movie Star Kid (1997)\n",
      "Predicting rating        5.0 for movie Marlene Dietrich: Shadow and Light (1996)\n",
      "Predicting rating        5.0 for movie Saint of Fort Washington, The (1993)\n",
      "Predicting rating        5.0 for movie Santa with Muscles (1996)\n",
      "Predicting rating        5.0 for movie Entertaining Angels: The Dorothy Day Story (1996)\n",
      "Predicting rating        5.0 for movie Aiqing wansui (1994)\n",
      "Predicting rating        5.0 for movie Someone Else's America (1995)\n",
      "Predicting rating        5.0 for movie Prefontaine (1997)\n",
      "Predicting rating        5.0 for movie They Made Me a Criminal (1939)\n",
      "Predicting rating        4.7 for movie Star Wars (1977)\n",
      "Predicting rating        4.7 for movie Raiders of the Lost Ark (1981)\n",
      "Predicting rating        4.7 for movie Pather Panchali (1955)\n",
      "Predicting rating        4.6 for movie Shawshank Redemption, The (1994)\n",
      "Predicting rating        4.6 for movie Empire Strikes Back, The (1980)\n",
      "Predicting rating        4.6 for movie Schindler's List (1993)\n",
      "Predicting rating        4.6 for movie Titanic (1997)\n",
      "Predicting rating        4.5 for movie Maya Lin: A Strong Clear Vision (1994)\n",
      "Predicting rating        4.5 for movie Wrong Trousers, The (1993)\n",
      "Predicting rating        4.5 for movie Usual Suspects, The (1995)\n"
     ]
    }
   ],
   "source": [
    "print('Top 20 recomendations usign collaborative filtering:')\n",
    "for i in range(20):\n",
    "    j = idx[i]\n",
    "    print(f'Predicting rating {my_predictions[j]:10.2} for movie {movies[j]}')"
   ]
  },
  {
   "cell_type": "markdown",
   "metadata": {},
   "source": [
    "Полученные рекомендации более-менее соотвествуют действительности, хотя многие фильмы я не видел"
   ]
  },
  {
   "cell_type": "markdown",
   "metadata": {},
   "source": [
    "#### Обучим модель с помощью сингулярного разложения матриц"
   ]
  },
  {
   "cell_type": "code",
   "execution_count": 27,
   "metadata": {},
   "outputs": [],
   "source": [
    "from scipy.sparse.linalg import svds\n",
    "\n",
    "U, sigma, Vt = svds(Y, num_features)\n",
    "sigma = np.diag(sigma)\n",
    "p = U.dot(sigma).dot(Vt)"
   ]
  },
  {
   "cell_type": "code",
   "execution_count": 29,
   "metadata": {},
   "outputs": [
    {
     "name": "stdout",
     "output_type": "stream",
     "text": [
      "Top 20 recomendations using singular matrix decomposition:\n",
      "Predicting rating        5.0 for movie Star Wars (1977)\n",
      "Predicting rating        4.9 for movie Shawshank Redemption, The (1994)\n",
      "Predicting rating        4.9 for movie Raiders of the Lost Ark (1981)\n",
      "Predicting rating        4.8 for movie Schindler's List (1993)\n",
      "Predicting rating        4.7 for movie Empire Strikes Back, The (1980)\n",
      "Predicting rating        4.7 for movie Usual Suspects, The (1995)\n",
      "Predicting rating        4.6 for movie Prefontaine (1997)\n",
      "Predicting rating        4.6 for movie Saint of Fort Washington, The (1993)\n",
      "Predicting rating        4.6 for movie Santa with Muscles (1996)\n",
      "Predicting rating        4.6 for movie Entertaining Angels: The Dorothy Day Story (1996)\n",
      "Predicting rating        4.6 for movie Aiqing wansui (1994)\n",
      "Predicting rating        4.6 for movie Braveheart (1995)\n",
      "Predicting rating        4.6 for movie They Made Me a Criminal (1939)\n",
      "Predicting rating        4.6 for movie Star Kid (1997)\n",
      "Predicting rating        4.6 for movie Someone Else's America (1995)\n",
      "Predicting rating        4.6 for movie Great Day in Harlem, A (1994)\n",
      "Predicting rating        4.6 for movie Marlene Dietrich: Shadow and Light (1996)\n",
      "Predicting rating        4.6 for movie Silence of the Lambs, The (1991)\n",
      "Predicting rating        4.5 for movie Godfather, The (1972)\n",
      "Predicting rating        4.5 for movie Pulp Fiction (1994)\n"
     ]
    }
   ],
   "source": [
    "my_predictions = p[:, 0] + Ymean\n",
    "idx = np.argsort(my_predictions)[::-1]\n",
    "print('Top 20 recomendations using singular matrix decomposition:')\n",
    "for i in range(20):\n",
    "    j = idx[i]\n",
    "    print(f'Predicting rating {my_predictions[j]-0.4:10.2} for movie {movies[j]}')"
   ]
  },
  {
   "cell_type": "markdown",
   "metadata": {},
   "source": [
    "Используя сингулярное разложения матриц получили немного отличающиеся рекомендации, но все же довольно похожие на те, что были полученны с помощью колоборативной фильтрации."
   ]
  },
  {
   "cell_type": "markdown",
   "metadata": {},
   "source": [
    "## Вывод\n",
    "В данной работе была построенна модель рекомендатальной системы с помощью алгоритма колоборативной фильтрации, сделана рекомендация фильмов для себя. Также результаты работы модели были сравнены с моделью на основе сингулярного разложения матриц."
   ]
  }
 ],
 "metadata": {
  "kernelspec": {
   "display_name": "Python 3",
   "language": "python",
   "name": "python3"
  },
  "language_info": {
   "codemirror_mode": {
    "name": "ipython",
    "version": 3
   },
   "file_extension": ".py",
   "mimetype": "text/x-python",
   "name": "python",
   "nbconvert_exporter": "python",
   "pygments_lexer": "ipython3",
   "version": "3.7.4"
  }
 },
 "nbformat": 4,
 "nbformat_minor": 4
}
