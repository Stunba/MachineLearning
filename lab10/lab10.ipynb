{
 "cells": [
  {
   "cell_type": "markdown",
   "metadata": {},
   "source": [
    "Лабораторная работа №10 “Градиентный бустинг”\n",
    "=====\n",
    "Лабораточная работа выполнена на языке **Python** c помощью интерактивной оболочки **Jupyter Notebook**.\n",
    "Исходный код работы - lab9.py.\n",
    "Файл jupyter notebook - lab9.ipynb.\n",
    "\n",
    "Для выполнения задания используется набор данных boston из библиотеки sklearn.\n",
    "\n",
    "## Ход работы"
   ]
  },
  {
   "cell_type": "markdown",
   "metadata": {},
   "source": [
    "#### Загружаем данные данные с помощью библиотеки sklearn"
   ]
  },
  {
   "cell_type": "code",
   "execution_count": 14,
   "metadata": {},
   "outputs": [],
   "source": [
    "import numpy as np\n",
    "import matplotlib.pyplot as plt\n",
    "import sklearn\n",
    "import sklearn.metrics\n",
    "import sklearn.datasets\n",
    "import sklearn.model_selection\n",
    "from sklearn.tree import DecisionTreeRegressor"
   ]
  },
  {
   "cell_type": "code",
   "execution_count": 8,
   "metadata": {},
   "outputs": [],
   "source": [
    "boston = sklearn.datasets.load_boston()"
   ]
  },
  {
   "cell_type": "markdown",
   "metadata": {},
   "source": [
    "#### Разделим выборку на обучающую (75%) и контрольную (25%)."
   ]
  },
  {
   "cell_type": "code",
   "execution_count": 9,
   "metadata": {},
   "outputs": [],
   "source": [
    "X_train, X_test, y_train, y_test = sklearn.model_selection.train_test_split(\n",
    "    boston.data.astype(np.float32), \n",
    "    boston.target, \n",
    "    test_size=0.25, \n",
    "    random_state=42\n",
    ")"
   ]
  },
  {
   "cell_type": "markdown",
   "metadata": {},
   "source": [
    "#### В цикле обучитим последовательно 50 решающих деревьев с параметрами max_depth=5 и random_state=42 (остальные параметры - по умолчанию). Используем коэффициент 0.9 для каждого отдельного дерева."
   ]
  },
  {
   "cell_type": "code",
   "execution_count": 23,
   "metadata": {},
   "outputs": [],
   "source": [
    "def train_boosted(X, y,\n",
    "                  num_iters=50,\n",
    "                  get_weight=lambda x: 0.9 / (1.0 + x),\n",
    "                  get_clf=lambda: DecisionTreeRegressor(max_depth=5, random_state=42)):\n",
    "\n",
    "    models = []\n",
    "    y = np.copy(y)\n",
    "    weights = np.ones(shape=(num_iters,))\n",
    "    for i in range(num_iters):\n",
    "        clf = get_clf()\n",
    "        clf.fit(X_train, y)\n",
    "        models.append(clf)\n",
    "        wi = get_weight(i)\n",
    "        weights[i] = wi\n",
    "        pred, loss = predict_boosted(models, X_train, y_train, weights)\n",
    "        h = clf.predict(X_train)\n",
    "        y = y - h * weights[i]\n",
    "\n",
    "    return models, weights"
   ]
  },
  {
   "cell_type": "markdown",
   "metadata": {},
   "source": [
    "#### Функция, которая вычисляет прогноз на уже построенных деревьях и оценивает качество работы алгоритма с помощью mean_squared_error в sklearn.metrics"
   ]
  },
  {
   "cell_type": "code",
   "execution_count": 24,
   "metadata": {},
   "outputs": [],
   "source": [
    "def predict_boosted(models, X, y, weights):\n",
    "    p = np.zeros(y.shape)\n",
    "    for i, model in enumerate(models):\n",
    "        p += model.predict(X) * weights[i]\n",
    "\n",
    "    loss = sklearn.metrics.mean_squared_error(y, p)\n",
    "    return p, loss"
   ]
  },
  {
   "cell_type": "markdown",
   "metadata": {},
   "source": [
    "#### Проверим работу алгоритма"
   ]
  },
  {
   "cell_type": "code",
   "execution_count": 25,
   "metadata": {},
   "outputs": [
    {
     "name": "stdout",
     "output_type": "stream",
     "text": [
      "Achieved on training set MSE loss: 3.76862e-05\n",
      "Achieved on validation set MSE loss: 13.6007\n"
     ]
    }
   ],
   "source": [
    "models, weights = train_boosted(X_train, y_train, num_iters=50,\n",
    "                                get_weight=lambda x: 0.9)\n",
    "\n",
    "p, loss = predict_boosted(models, X_train, y_train, weights)\n",
    "print(f'Achieved on training set MSE loss: {loss:.6}')\n",
    "p_val, val_loss = predict_boosted(models, X_test, y_test, weights)\n",
    "print(f'Achieved on validation set MSE loss: {val_loss:.6}')"
   ]
  },
  {
   "cell_type": "markdown",
   "metadata": {},
   "source": [
    "#### Попробуем уменьшать вес перед каждым алгоритмом с каждой следующей итерацией по формуле 0.9 / (1.0 + i), где i - номер итерации (от 0 до 49)"
   ]
  },
  {
   "cell_type": "code",
   "execution_count": 26,
   "metadata": {},
   "outputs": [
    {
     "name": "stdout",
     "output_type": "stream",
     "text": [
      "Achieved on training set MSE loss: 1.42114\n",
      "Achieved on validation set MSE loss: 8.98735\n"
     ]
    }
   ],
   "source": [
    "models, weights = train_boosted(X_train, y_train, num_iters=50)\n",
    "\n",
    "p, loss = predict_boosted(models, X_train, y_train, weights)\n",
    "print(f'Achieved on training set MSE loss: {loss:.6}')\n",
    "p_val, val_loss = predict_boosted(models, X_test, y_test, weights)\n",
    "print(f'Achieved on validation set MSE loss: {val_loss:.6}')"
   ]
  },
  {
   "cell_type": "markdown",
   "metadata": {},
   "source": [
    "По результатам обучения двух моделей, одна с коэффициентом 0.9, вторая с адаптивным коэффициентом, видно что для коэффицинта 0.9 модель намного лучше обучается на тренировочной выборке, но хуже себя показывает на валидационной выборке. "
   ]
  },
  {
   "cell_type": "markdown",
   "metadata": {},
   "source": [
    "#### Проверим переобучается ли градиентный бустинг с ростом числа итераций."
   ]
  },
  {
   "cell_type": "code",
   "execution_count": 27,
   "metadata": {},
   "outputs": [],
   "source": [
    "def cross_validate_num_iters(X_train, y_train, X_val, y_val):\n",
    "    steps = 10\n",
    "    iters = np.linspace(5, 200, steps, dtype=int)\n",
    "    training_loss = np.zeros(steps)\n",
    "    validation_loss = np.zeros(steps)\n",
    "    for i, num_iters in enumerate(iters):\n",
    "        models, weights = train_boosted(X_train, y_train, num_iters)\n",
    "        p, loss = predict_boosted(models, X_train, y_train, weights)\n",
    "        p_val, val_loss = predict_boosted(models, X_val, y_val, weights)\n",
    "        training_loss[i] = loss\n",
    "        validation_loss[i] = val_loss\n",
    "\n",
    "    best_iters = iters[validation_loss.argmin()]\n",
    "    return best_iters, training_loss, validation_loss, iters"
   ]
  },
  {
   "cell_type": "code",
   "execution_count": 39,
   "metadata": {},
   "outputs": [],
   "source": [
    "num_iters, training_loss, validation_loss, iters = cross_validate_num_iters(X_train, y_train, X_test, y_test)"
   ]
  },
  {
   "cell_type": "code",
   "execution_count": 40,
   "metadata": {},
   "outputs": [
    {
     "data": {
      "image/png": "[encoded data removed]",
      "text/plain": [
       "<Figure size 432x288 with 1 Axes>"
      ]
     },
     "metadata": {
      "needs_background": "light"
     },
     "output_type": "display_data"
    }
   ],
   "source": [
    "plt.figure()\n",
    "plt.plot(iters, training_loss, c='b')\n",
    "plt.plot(iters, validation_loss, c='r')\n",
    "plt.xlabel('Number of iterations')\n",
    "plt.ylabel('MSE Loss')\n",
    "plt.legend(['Training', 'Validation'])\n",
    "plt.show()"
   ]
  },
  {
   "cell_type": "markdown",
   "metadata": {},
   "source": [
    "Используя адаптивный шаг для каждого последуещего дерева и кол-во итераций от 5 до 200 по графику видим, что функция потерь убывает для тренировочного набора, так и для валидационного. Т.е. переобчить модель не получилось."
   ]
  },
  {
   "cell_type": "markdown",
   "metadata": {},
   "source": [
    "#### Проверим переобучается ли градиентный бустинг с ростом глубины деревьев."
   ]
  },
  {
   "cell_type": "code",
   "execution_count": 31,
   "metadata": {},
   "outputs": [],
   "source": [
    "def cross_validate_tree_depth(X_train, y_train, X_val, y_val):\n",
    "    depths = range(2, 20)\n",
    "    steps = len(depths)\n",
    "    training_loss = np.zeros(steps)\n",
    "    validation_loss = np.zeros(steps)\n",
    "    for i, depth in enumerate(depths):\n",
    "        models, weights = train_boosted(X_train, y_train, get_clf=lambda: DecisionTreeRegressor(max_depth=depth, random_state=42))\n",
    "        p, loss = predict_boosted(models, X_train, y_train, weights)\n",
    "        p_val, val_loss = predict_boosted(models, X_val, y_val, weights)\n",
    "        training_loss[i] = loss\n",
    "        validation_loss[i] = val_loss\n",
    "\n",
    "    best_depth = depths[validation_loss.argmin()]\n",
    "    return best_depth, training_loss, validation_loss, depths"
   ]
  },
  {
   "cell_type": "code",
   "execution_count": 41,
   "metadata": {},
   "outputs": [
    {
     "name": "stdout",
     "output_type": "stream",
     "text": [
      "Found best tree depth = 5 with MSE loss: 8.98735\n"
     ]
    }
   ],
   "source": [
    "depth, training_loss, validation_loss, depths = cross_validate_tree_depth(X_train, y_train, X_test, y_test)\n",
    "print(f'Found best tree depth = {depth} with MSE loss: {validation_loss.min():.6}')"
   ]
  },
  {
   "cell_type": "code",
   "execution_count": 42,
   "metadata": {},
   "outputs": [
    {
     "data": {
      "image/png": "[encoded data removed]",
      "text/plain": [
       "<Figure size 432x288 with 1 Axes>"
      ]
     },
     "metadata": {
      "needs_background": "light"
     },
     "output_type": "display_data"
    }
   ],
   "source": [
    "plt.figure()\n",
    "plt.plot(depths, training_loss, c='b')\n",
    "plt.plot(depths, validation_loss, c='r')\n",
    "plt.xlabel('Tree depth')\n",
    "plt.ylabel('MSE Loss')\n",
    "plt.legend(['Training', 'Validation'])\n",
    "plt.show()"
   ]
  },
  {
   "cell_type": "markdown",
   "metadata": {},
   "source": [
    "Используя адаптивный шаг для каждого последуещего дерева, кол-во итераций от 50 и глубину деревьев от 2 до 20 по графику видим, что функция потерь для валидационной выборки ведет себя не стабильно в зависимости от грубины дереве, так или иначе в целом она возрастает после 5, а функция потерь на тренировочной выборке всегда убывает, что говорит о переобучении нашей модели."
   ]
  },
  {
   "cell_type": "markdown",
   "metadata": {},
   "source": [
    "#### Сравним качество, получаемое с помощью градиентного бустинга с качеством работы линейной регрессии."
   ]
  },
  {
   "cell_type": "code",
   "execution_count": 44,
   "metadata": {},
   "outputs": [
    {
     "name": "stdout",
     "output_type": "stream",
     "text": [
      "Linear regression model train MSE: 22.3401\n",
      "Linear regression model validation MSE: 22.0987\n",
      "Gradient boosting RMSE loss: 2.99789\n",
      "Linear regression RMSE loss: 4.70093\n",
      "Gradient perfomance is 1.6X better\n"
     ]
    }
   ],
   "source": [
    "import sklearn.linear_model\n",
    "\n",
    "lr = sklearn.linear_model.LinearRegression()\n",
    "lr.fit(X_train, y_train)\n",
    "lrp = lr.predict(X_train)\n",
    "lrp_val = lr.predict(X_test)\n",
    "lr_loss_train = sklearn.metrics.mean_squared_error(y_train, lrp)\n",
    "lr_loss_val = sklearn.metrics.mean_squared_error(y_test, lrp_val)\n",
    "print(f'Linear regression model train MSE: {lr_loss_train:.6}')\n",
    "print(f'Linear regression model validation MSE: {lr_loss_val:.6}')\n",
    "print(f'Gradient boosting RMSE loss: {np.sqrt(val_loss):.6}\\nLinear regression RMSE loss: {np.sqrt(lr_loss_val):.6}')\n",
    "print(f'Gradient perfomance is {np.sqrt(lr_loss_val)/np.sqrt(val_loss):.2}X better')"
   ]
  },
  {
   "cell_type": "markdown",
   "metadata": {},
   "source": [
    "## Вывод\n",
    "В данной работе была построенна модель градиентного бустинга используя деревья решений как целевую модель для бустинга, проверили как параметры модели влияют на результаты работы. Сравнили результаты работы модели градиентного бустинга с моделью линейной регресии."
   ]
  }
 ],
 "metadata": {
  "kernelspec": {
   "display_name": "Python 3",
   "language": "python",
   "name": "python3"
  },
  "language_info": {
   "codemirror_mode": {
    "name": "ipython",
    "version": 3
   },
   "file_extension": ".py",
   "mimetype": "text/x-python",
   "name": "python",
   "nbconvert_exporter": "python",
   "pygments_lexer": "ipython3",
   "version": "3.7.4"
  }
 },
 "nbformat": 4,
 "nbformat_minor": 4
}
