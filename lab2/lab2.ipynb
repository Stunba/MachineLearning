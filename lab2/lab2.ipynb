{
 "cells": [
  {
   "cell_type": "markdown",
   "metadata": {},
   "source": [
    "Лабораторная работа №2 “Логистическая регрессия. Многоклассовая классификация”\n",
    "======\n",
    "Лабораточная работа выполнена на языке **Python** c помощью интерактивной оболочки **Jupyter Notebook**\n",
    "Исходный код работы - lab2.py.\n",
    "Файл jupyter notebook - lab2.ipynb\n",
    "\n",
    "Набор данных **ex2data1.txt** представляет собой текстовый файл, содержащий информацию об оценке студента по первому экзамену (первое число в строке), оценке по второму экзамену (второе число в строке) и поступлении в университет (0 - не поступил, 1 - поступил).\n",
    "\n",
    "Набор данных **ex2data2.txt** представляет собой текстовый файл, содержащий информацию о результате первого теста (первое число в строке) и результате второго теста (второе число в строке) изделий и результате прохождения контроля (0 - контроль не пройден, 1 - контроль пройден).\n",
    "\n",
    "Набор данных **ex2data3.mat** представляет собой файл формата *.mat (т.е. сохраненного из Matlab). Набор содержит 5000 изображений 20x20 в оттенках серого. Каждый пиксель представляет собой значение яркости (вещественное число). Каждое изображение сохранено в виде вектора из 400 элементов. В результате загрузки набора данных должна быть получена матрица 5000x400. Далее расположены метки классов изображений от 1 до 9 (соответствуют цифрам от 1 до 9), а также 10 (соответствует цифре 0).\n",
    "\n",
    "## Ход выполнения работы"
   ]
  },
  {
   "cell_type": "markdown",
   "metadata": {},
   "source": [
    "### Загрузите данные ex2data1.txt из текстового файла."
   ]
  },
  {
   "cell_type": "code",
   "execution_count": 1,
   "metadata": {},
   "outputs": [],
   "source": [
    "import numpy as np\n",
    "import pandas as pd\n",
    "import matplotlib.pyplot as plt"
   ]
  },
  {
   "cell_type": "code",
   "execution_count": 57,
   "metadata": {},
   "outputs": [
    {
     "data": {
      "text/html": [
       "<div>\n",
       "<style scoped>\n",
       "    .dataframe tbody tr th:only-of-type {\n",
       "        vertical-align: middle;\n",
       "    }\n",
       "\n",
       "    .dataframe tbody tr th {\n",
       "        vertical-align: top;\n",
       "    }\n",
       "\n",
       "    .dataframe thead th {\n",
       "        text-align: right;\n",
       "    }\n",
       "</style>\n",
       "<table border=\"1\" class=\"dataframe\">\n",
       "  <thead>\n",
       "    <tr style=\"text-align: right;\">\n",
       "      <th></th>\n",
       "      <th>grade1</th>\n",
       "      <th>grade2</th>\n",
       "      <th>isAdmitted</th>\n",
       "    </tr>\n",
       "  </thead>\n",
       "  <tbody>\n",
       "    <tr>\n",
       "      <th>count</th>\n",
       "      <td>100.000000</td>\n",
       "      <td>100.000000</td>\n",
       "      <td>100.000000</td>\n",
       "    </tr>\n",
       "    <tr>\n",
       "      <th>mean</th>\n",
       "      <td>65.644274</td>\n",
       "      <td>66.221998</td>\n",
       "      <td>0.600000</td>\n",
       "    </tr>\n",
       "    <tr>\n",
       "      <th>std</th>\n",
       "      <td>19.458222</td>\n",
       "      <td>18.582783</td>\n",
       "      <td>0.492366</td>\n",
       "    </tr>\n",
       "    <tr>\n",
       "      <th>min</th>\n",
       "      <td>30.058822</td>\n",
       "      <td>30.603263</td>\n",
       "      <td>0.000000</td>\n",
       "    </tr>\n",
       "    <tr>\n",
       "      <th>25%</th>\n",
       "      <td>50.919511</td>\n",
       "      <td>48.179205</td>\n",
       "      <td>0.000000</td>\n",
       "    </tr>\n",
       "    <tr>\n",
       "      <th>50%</th>\n",
       "      <td>67.032988</td>\n",
       "      <td>67.682381</td>\n",
       "      <td>1.000000</td>\n",
       "    </tr>\n",
       "    <tr>\n",
       "      <th>75%</th>\n",
       "      <td>80.212529</td>\n",
       "      <td>79.360605</td>\n",
       "      <td>1.000000</td>\n",
       "    </tr>\n",
       "    <tr>\n",
       "      <th>max</th>\n",
       "      <td>99.827858</td>\n",
       "      <td>98.869436</td>\n",
       "      <td>1.000000</td>\n",
       "    </tr>\n",
       "  </tbody>\n",
       "</table>\n",
       "</div>"
      ],
      "text/plain": [
       "           grade1      grade2  isAdmitted\n",
       "count  100.000000  100.000000  100.000000\n",
       "mean    65.644274   66.221998    0.600000\n",
       "std     19.458222   18.582783    0.492366\n",
       "min     30.058822   30.603263    0.000000\n",
       "25%     50.919511   48.179205    0.000000\n",
       "50%     67.032988   67.682381    1.000000\n",
       "75%     80.212529   79.360605    1.000000\n",
       "max     99.827858   98.869436    1.000000"
      ]
     },
     "execution_count": 57,
     "metadata": {},
     "output_type": "execute_result"
    }
   ],
   "source": [
    "data_row1 = np.genfromtxt('ex2data1.txt', delimiter=',')\n",
    "data1 = pd.DataFrame(data_row1, columns=list(['grade1', 'grade2', 'isAdmitted']))\n",
    "data1.describe()"
   ]
  },
  {
   "cell_type": "markdown",
   "metadata": {},
   "source": [
    "### Постройте график, где по осям откладываются оценки по предметам, а точки обозначаются двумя разными маркерами в зависимости от того, поступил ли данный студент в университет или нет."
   ]
  },
  {
   "cell_type": "code",
   "execution_count": 29,
   "metadata": {},
   "outputs": [
    {
     "data": {
      "text/plain": [
       "<Figure size 432x288 with 0 Axes>"
      ]
     },
     "metadata": {},
     "output_type": "display_data"
    },
    {
     "data": {
      "image/png": "[encoded data removed]",
      "text/plain": [
       "<Figure size 432x288 with 1 Axes>"
      ]
     },
     "metadata": {
      "needs_background": "light"
     },
     "output_type": "display_data"
    }
   ],
   "source": [
    "plt.figure()\n",
    "ax = data1.loc[data1.isAdmitted == 1].plot(x='grade1', y='grade2', style=['+'], label='admitted')\n",
    "data1.loc[data1.isAdmitted == 0].plot(x='grade1', y='grade2', style=['o'], label='not admitted', ax=ax)\n",
    "ax.set_ylabel('Exam 2 score')\n",
    "ax.set_xlabel('Exam 1 score')\n",
    "plt.show()"
   ]
  },
  {
   "cell_type": "code",
   "execution_count": 14,
   "metadata": {},
   "outputs": [
    {
     "data": {
      "text/plain": [
       "count    120.000000\n",
       "mean      74.337662\n",
       "std       15.411800\n",
       "min       40.457551\n",
       "25%       64.142572\n",
       "50%       75.369994\n",
       "75%       87.183031\n",
       "max       99.827858\n",
       "dtype: float64"
      ]
     },
     "execution_count": 14,
     "metadata": {},
     "output_type": "execute_result"
    }
   ],
   "source": [
    "plot_data = data1.loc[data1.isPassed == 1]['grade1'].append(data1.loc[data1.isPassed == 1]['grade2'])\n",
    "plot_data.describe()"
   ]
  },
  {
   "cell_type": "markdown",
   "metadata": {},
   "source": [
    "### Реализуйте функции потерь J(θ) и градиентного спуска для логистической регрессии с использованием векторизации."
   ]
  },
  {
   "cell_type": "code",
   "execution_count": 52,
   "metadata": {},
   "outputs": [],
   "source": [
    "def sigmoid(X):\n",
    "   return 1/(1+np.exp(-X))"
   ]
  },
  {
   "cell_type": "code",
   "execution_count": 59,
   "metadata": {},
   "outputs": [],
   "source": [
    "def costFunction(theta, X, y):\n",
    "    m = y.size\n",
    "    h = sigmoid(X @ theta)\n",
    "    J = (-1 / m) * ((y.T @ np.log(h)) + ((1-y).T @ np.log(1-h)))\n",
    "    error = h - y\n",
    "    grad = (1 / m) * (X.T @ error)\n",
    "    return J, grad"
   ]
  },
  {
   "cell_type": "code",
   "execution_count": 60,
   "metadata": {},
   "outputs": [
    {
     "name": "stdout",
     "output_type": "stream",
     "text": [
      "Cost at initial theta (zeros): 0.6931471805599452\n",
      "Gradient at initial theta (zeros): [ -0.1        -12.00921659 -11.26284221] \n",
      "\n"
     ]
    }
   ],
   "source": [
    "m, n = data1.shape\n",
    "X = data1[['grade1', 'grade2']]\n",
    "X.insert(0, 'theta_0', 1)\n",
    "X = X.to_numpy()\n",
    "y = data1['isAdmitted']\n",
    "initial_theta = np.zeros(n)\n",
    "cost, grad = costFunction(initial_theta, X, y)\n",
    "print(f'Cost at initial theta (zeros): {cost}')\n",
    "print(f'Gradient at initial theta (zeros): {grad} \\n')"
   ]
  },
  {
   "cell_type": "markdown",
   "metadata": {},
   "source": [
    "### Реализуйте другие методы (как минимум 2) оптимизации для реализованной функции стоимости (например, Метод Нелдера — Мида, Алгоритм Бройдена — Флетчера — Гольдфарба — Шанно, генетические методы и т.п.). Разрешается использовать библиотечные реализации методов оптимизации (например, из библиотеки scipy)."
   ]
  },
  {
   "cell_type": "code",
   "execution_count": 146,
   "metadata": {},
   "outputs": [],
   "source": [
    "import scipy.optimize as opt\n",
    "\n",
    "def costOptimize(theta, X, y):\n",
    "    cost, _ = costFunction(theta, X, y)\n",
    "    return cost\n",
    "\n",
    "def gradientOptimize(theta, X, y):\n",
    "    _, grad = costFunction(theta, X, y)\n",
    "    return grad\n",
    "\n",
    "def optimize(func, gradient, X, y, method):\n",
    "    n = y.shape[1]\n",
    "    initial_theta = np.zeros(n)\n",
    "    result = opt.minimize(fun = func, x0 = initial_theta, args = (X, y), method = method, jac = gradient)\n",
    "    theta = result.x\n",
    "    cost = func(theta, X, y)\n",
    "    print(f'Cost at theta found : {cost}')\n",
    "    print(f'theta: {theta}')\n",
    "    return result"
   ]
  },
  {
   "cell_type": "markdown",
   "metadata": {},
   "source": [
    "#### Optimization using gradient information in a truncated Newton algorithm"
   ]
  },
  {
   "cell_type": "code",
   "execution_count": 78,
   "metadata": {},
   "outputs": [
    {
     "name": "stdout",
     "output_type": "stream",
     "text": [
      "Cost at theta found : 0.2034977015894746\n",
      "theta: [-25.16131861   0.20623159   0.20147149]\n"
     ]
    },
    {
     "data": {
      "text/plain": [
       "     fun: 0.2034977015894746\n",
       "     jac: array([8.98032450e-09, 8.46951977e-08, 4.76544166e-07])\n",
       " message: 'Local minimum reached (|pg| ~= 0)'\n",
       "    nfev: 36\n",
       "     nit: 17\n",
       "  status: 0\n",
       " success: True\n",
       "       x: array([-25.16131861,   0.20623159,   0.20147149])"
      ]
     },
     "execution_count": 78,
     "metadata": {},
     "output_type": "execute_result"
    }
   ],
   "source": [
    "optimize(costOptimize, gradientOptimize, X, y, 'TNC')"
   ]
  },
  {
   "cell_type": "markdown",
   "metadata": {},
   "source": [
    "#### Unconstrained minimization of a function using the Newton-CG method"
   ]
  },
  {
   "cell_type": "code",
   "execution_count": 84,
   "metadata": {},
   "outputs": [
    {
     "name": "stdout",
     "output_type": "stream",
     "text": [
      "Cost at theta found : 0.20349771001679343\n",
      "theta: [-25.15380655   0.20617146   0.20141074]\n"
     ]
    },
    {
     "data": {
      "text/plain": [
       "     fun: 0.20349771001679343\n",
       "     jac: array([1.40815808e-05, 7.48488706e-04, 7.23594998e-04])\n",
       " message: 'Optimization terminated successfully.'\n",
       "    nfev: 64\n",
       "    nhev: 0\n",
       "     nit: 26\n",
       "    njev: 217\n",
       "  status: 0\n",
       " success: True\n",
       "       x: array([-25.15380655,   0.20617146,   0.20141074])"
      ]
     },
     "execution_count": 84,
     "metadata": {},
     "output_type": "execute_result"
    }
   ],
   "source": [
    "result = optimize(costOptimize, gradientOptimize, X, y, 'Newton-CG')\n",
    "result"
   ]
  },
  {
   "cell_type": "markdown",
   "metadata": {},
   "source": [
    "### Реализуйте функцию предсказания вероятности поступления студента в зависимости от значений оценок по экзаменам."
   ]
  },
  {
   "cell_type": "code",
   "execution_count": 95,
   "metadata": {},
   "outputs": [
    {
     "name": "stdout",
     "output_type": "stream",
     "text": [
      "For a student with scores 45 and 85, we predict an admission probability of 0.7762286402437759\n"
     ]
    }
   ],
   "source": [
    "def predict(theta, X):\n",
    "    predict = sigmoid(np.dot(X, theta))\n",
    "    return predict > 0.5\n",
    "\n",
    "theta = result.x\n",
    "prob = sigmoid(np.array([1, 45, 85]) @ theta)\n",
    "print(f'For a student with scores 45 and 85, we predict an admission probability of {prob}')"
   ]
  },
  {
   "cell_type": "code",
   "execution_count": 98,
   "metadata": {},
   "outputs": [
    {
     "name": "stdout",
     "output_type": "stream",
     "text": [
      "Train Accuracy: 89.000000\n"
     ]
    }
   ],
   "source": [
    "p = predict(np.array(theta), X)\n",
    "print('Train Accuracy: %f' % ((y[p == y].size / float(y.size)) * 100.0))"
   ]
  },
  {
   "cell_type": "markdown",
   "metadata": {},
   "source": [
    "### Постройте разделяющую прямую, полученную в результате обучения модели. Совместите прямую с графиком из пункта 2."
   ]
  },
  {
   "cell_type": "code",
   "execution_count": 99,
   "metadata": {},
   "outputs": [
    {
     "data": {
      "text/plain": [
       "<Figure size 432x288 with 0 Axes>"
      ]
     },
     "metadata": {},
     "output_type": "display_data"
    },
    {
     "data": {
      "image/png": "[encoded data removed]",
      "text/plain": [
       "<Figure size 432x288 with 1 Axes>"
      ]
     },
     "metadata": {
      "needs_background": "light"
     },
     "output_type": "display_data"
    }
   ],
   "source": [
    "plt.figure()\n",
    "ax = data1.loc[data1.isAdmitted == 1].plot(x='grade1', y='grade2', style=['+'], label='admitted')\n",
    "data1.loc[data1.isAdmitted == 0].plot(x='grade1', y='grade2', style=['o'], label='not admitted', ax=ax)\n",
    "ax.set_ylabel('Exam 2 score')\n",
    "ax.set_xlabel('Exam 1 score')\n",
    "slope = -(theta[1] / theta[2])\n",
    "intercept = -(theta[0] / theta[2])\n",
    "x_vals = np.array(ax.get_xlim())\n",
    "y_vals = intercept + (slope * x_vals)\n",
    "plt.plot(x_vals, y_vals, c=\"k\");\n",
    "plt.show()"
   ]
  },
  {
   "cell_type": "markdown",
   "metadata": {},
   "source": [
    "### Загрузите данные ex2data2.txt из текстового файла."
   ]
  },
  {
   "cell_type": "code",
   "execution_count": 188,
   "metadata": {},
   "outputs": [
    {
     "data": {
      "text/html": [
       "<div>\n",
       "<style scoped>\n",
       "    .dataframe tbody tr th:only-of-type {\n",
       "        vertical-align: middle;\n",
       "    }\n",
       "\n",
       "    .dataframe tbody tr th {\n",
       "        vertical-align: top;\n",
       "    }\n",
       "\n",
       "    .dataframe thead th {\n",
       "        text-align: right;\n",
       "    }\n",
       "</style>\n",
       "<table border=\"1\" class=\"dataframe\">\n",
       "  <thead>\n",
       "    <tr style=\"text-align: right;\">\n",
       "      <th></th>\n",
       "      <th>test1</th>\n",
       "      <th>test2</th>\n",
       "      <th>accepted</th>\n",
       "    </tr>\n",
       "  </thead>\n",
       "  <tbody>\n",
       "    <tr>\n",
       "      <th>count</th>\n",
       "      <td>118.000000</td>\n",
       "      <td>118.000000</td>\n",
       "      <td>118.000000</td>\n",
       "    </tr>\n",
       "    <tr>\n",
       "      <th>mean</th>\n",
       "      <td>0.054779</td>\n",
       "      <td>0.183102</td>\n",
       "      <td>0.491525</td>\n",
       "    </tr>\n",
       "    <tr>\n",
       "      <th>std</th>\n",
       "      <td>0.496654</td>\n",
       "      <td>0.519743</td>\n",
       "      <td>0.502060</td>\n",
       "    </tr>\n",
       "    <tr>\n",
       "      <th>min</th>\n",
       "      <td>-0.830070</td>\n",
       "      <td>-0.769740</td>\n",
       "      <td>0.000000</td>\n",
       "    </tr>\n",
       "    <tr>\n",
       "      <th>25%</th>\n",
       "      <td>-0.372120</td>\n",
       "      <td>-0.254385</td>\n",
       "      <td>0.000000</td>\n",
       "    </tr>\n",
       "    <tr>\n",
       "      <th>50%</th>\n",
       "      <td>-0.006336</td>\n",
       "      <td>0.213455</td>\n",
       "      <td>0.000000</td>\n",
       "    </tr>\n",
       "    <tr>\n",
       "      <th>75%</th>\n",
       "      <td>0.478970</td>\n",
       "      <td>0.646563</td>\n",
       "      <td>1.000000</td>\n",
       "    </tr>\n",
       "    <tr>\n",
       "      <th>max</th>\n",
       "      <td>1.070900</td>\n",
       "      <td>1.108900</td>\n",
       "      <td>1.000000</td>\n",
       "    </tr>\n",
       "  </tbody>\n",
       "</table>\n",
       "</div>"
      ],
      "text/plain": [
       "            test1       test2    accepted\n",
       "count  118.000000  118.000000  118.000000\n",
       "mean     0.054779    0.183102    0.491525\n",
       "std      0.496654    0.519743    0.502060\n",
       "min     -0.830070   -0.769740    0.000000\n",
       "25%     -0.372120   -0.254385    0.000000\n",
       "50%     -0.006336    0.213455    0.000000\n",
       "75%      0.478970    0.646563    1.000000\n",
       "max      1.070900    1.108900    1.000000"
      ]
     },
     "execution_count": 188,
     "metadata": {},
     "output_type": "execute_result"
    }
   ],
   "source": [
    "data_row2 = np.genfromtxt('ex2data2.txt', delimiter=',')\n",
    "data2 = pd.DataFrame(data_row2, columns=list(['test1', 'test2', 'accepted']))\n",
    "data2.describe()"
   ]
  },
  {
   "cell_type": "markdown",
   "metadata": {},
   "source": [
    "### Постройте график, где по осям откладываются результаты тестов, а точки обозначаются двумя разными маркерами в зависимости от того, прошло ли изделие контроль или нет."
   ]
  },
  {
   "cell_type": "code",
   "execution_count": 189,
   "metadata": {},
   "outputs": [
    {
     "data": {
      "text/plain": [
       "<Figure size 432x288 with 0 Axes>"
      ]
     },
     "metadata": {},
     "output_type": "display_data"
    },
    {
     "data": {
      "image/png": "[encoded data removed]",
      "text/plain": [
       "<Figure size 432x288 with 1 Axes>"
      ]
     },
     "metadata": {
      "needs_background": "light"
     },
     "output_type": "display_data"
    }
   ],
   "source": [
    "plt.figure()\n",
    "ax = data2.loc[data2.accepted == 1].plot(x='test1', y='test2', style=['+'], label='accepted')\n",
    "data2.loc[data2.accepted == 0].plot(x='test1', y='test2', style=['o'], label='rejected', ax=ax)\n",
    "ax.set_ylabel('Test 2')\n",
    "ax.set_xlabel('Test 1')\n",
    "plt.show()"
   ]
  },
  {
   "cell_type": "markdown",
   "metadata": {},
   "source": [
    "### Постройте все возможные комбинации признаков x1 (результат первого теста) и x2 (результат второго теста), в которых степень полинома не превышает 6, т.е. 1, x1, x2, x12, x1x2, x22, …, x1x25, x26 (всего 28 комбинаций)."
   ]
  },
  {
   "cell_type": "code",
   "execution_count": 108,
   "metadata": {},
   "outputs": [
    {
     "data": {
      "text/plain": [
       "(118, 28)"
      ]
     },
     "execution_count": 108,
     "metadata": {},
     "output_type": "execute_result"
    }
   ],
   "source": [
    "def map_feature(x1, x2):\n",
    "    '''\n",
    "    Maps the two input features to quadratic features.\n",
    "    Returns a new feature array with more features, comprising of\n",
    "    X1, X2, X1 ** 2, X2 ** 2, X1*X2, X1*X2 ** 2, etc...\n",
    "    Inputs X1, X2 must be the same size\n",
    "    '''\n",
    "    x1.shape = (x1.size, 1)\n",
    "    x2.shape = (x2.size, 1)\n",
    "    degree = 6\n",
    "    out = np.ones(shape=(x1[:, 0].size, 1))\n",
    "\n",
    "    m, n = out.shape\n",
    "\n",
    "    for i in range(1, degree + 1):\n",
    "        for j in range(i + 1):\n",
    "            r = (x1 ** (i - j)) * (x2 ** j)\n",
    "            out = np.append(out, r, axis=1)\n",
    "\n",
    "    return out\n",
    "\n",
    "mapped = map_feature(data2['test1'].to_numpy(), data2['test2'].to_numpy())"
   ]
  },
  {
   "cell_type": "markdown",
   "metadata": {},
   "source": [
    "### Реализуйте L2-регуляризацию для логистической регрессии и обучите ее на расширенном наборе признаков методом градиентного спуска."
   ]
  },
  {
   "cell_type": "code",
   "execution_count": 224,
   "metadata": {},
   "outputs": [],
   "source": [
    "def cost_function_reg(theta, X, y, l):\n",
    "    '''Compute the cost and partial derivatives as grads\n",
    "    '''\n",
    "\n",
    "    h = sigmoid(X.dot(theta))\n",
    "\n",
    "    thetaR = theta[1:, 0]\n",
    "\n",
    "    J = (-1.0 / m) * ((y.T @ np.log(h)) + ((1 - y.T) @ np.log(1.0 - h))) + (l / (2.0 * m)) * (thetaR.T @ thetaR)\n",
    "\n",
    "    y.shape = h.shape\n",
    "    delta = h - y\n",
    "    sumdelta = delta.T @ X[:, 1]\n",
    "    grad1 = (1.0 / m) * sumdelta\n",
    "\n",
    "    XR = X[:, 1:X.shape[1]]\n",
    "    sumdelta = delta.T @ XR\n",
    "\n",
    "    grad = (1.0 / m) * (sumdelta + l * thetaR)\n",
    "\n",
    "    out = np.zeros(shape=(grad.shape[0], grad.shape[1] + 1))\n",
    "\n",
    "    out[:, 0] = grad1\n",
    "    out[:, 1:] = grad\n",
    "\n",
    "    return J.flatten(), out.T.flatten()\n",
    "\n",
    "def gradient_descent(X, y, theta, l, alpha, num_iters):\n",
    "    m = y.shape[0]  # Size of training set\n",
    "    j_history = []\n",
    "    for i in range(0, num_iters):\n",
    "        cost, grad = cost_function_reg(theta, X, y, l)\n",
    "        grad.shape = theta.shape\n",
    "        theta -= alpha * grad\n",
    "        j_history.append(cost)\n",
    "\n",
    "    return theta, j_history\n",
    "\n",
    "m, n = data2.shape\n",
    "y = data2['accepted'].to_numpy()\n",
    "y.shape = (m, 1)\n",
    "initial_theta = np.zeros(shape=(mapped.shape[1], 1))\n",
    "#Set regularization parameter lambda to 1\n",
    "l = 1\n",
    "gd_theta, costs = gradient_descent(mapped, y, initial_theta, l, 0.2, 400)"
   ]
  },
  {
   "cell_type": "markdown",
   "metadata": {},
   "source": [
    "### Реализуйте другие методы оптимизации."
   ]
  },
  {
   "cell_type": "code",
   "execution_count": 184,
   "metadata": {},
   "outputs": [],
   "source": [
    "def cost_decorator(theta, X, y):\n",
    "    theta.shape = (mapped.shape[1], 1)\n",
    "    cost, _ = cost_function_reg(theta, X, y, l)\n",
    "    theta.shape = (mapped.shape[1],)\n",
    "    return cost\n",
    "\n",
    "\n",
    "def gradient_decorator(theta, X, y):\n",
    "    theta.shape = (mapped.shape[1], 1)\n",
    "    _, grad = cost_function_reg(theta, X, y, l)\n",
    "    theta.shape = (mapped.shape[1],)\n",
    "    return grad\n",
    "\n",
    "initial_theta = np.zeros((mapped.shape[1], ))\n",
    "result = opt.minimize(fun=cost_decorator, x0=initial_theta, args=(mapped, y), method='BFGS', jac=gradient_decorator)\n",
    "bfgs_theta = result.x"
   ]
  },
  {
   "cell_type": "markdown",
   "metadata": {},
   "source": [
    "### Реализуйте функцию предсказания вероятности прохождения контроля изделием в зависимости от результатов тестов."
   ]
  },
  {
   "cell_type": "code",
   "execution_count": 185,
   "metadata": {},
   "outputs": [
    {
     "name": "stdout",
     "output_type": "stream",
     "text": [
      "Train Accuracy with gradient descent: 80.508475\n",
      "Train Accuracy using the BFGS algorithm: 83.898305\n"
     ]
    }
   ],
   "source": [
    "p = predict(np.array(gd_theta), mapped)\n",
    "print('Train Accuracy with gradient descent: %f' % ((y[p == y].size / float(y.size)) * 100.0))\n",
    "p = predict(np.array(bfgs_theta), mapped)\n",
    "p.shape = y.shape\n",
    "print('Train Accuracy using the BFGS algorithm: %f' % ((y[p == y].size / float(y.size)) * 100.0))"
   ]
  },
  {
   "cell_type": "markdown",
   "metadata": {},
   "source": [
    "### Постройте разделяющую кривую, полученную в результате обучения модели. Совместите прямую с графиком из пункта 7."
   ]
  },
  {
   "cell_type": "code",
   "execution_count": 195,
   "metadata": {},
   "outputs": [
    {
     "data": {
      "text/plain": [
       "<Figure size 432x288 with 0 Axes>"
      ]
     },
     "metadata": {},
     "output_type": "display_data"
    },
    {
     "data": {
      "image/png": "[encoded data removed]",
      "text/plain": [
       "<Figure size 432x288 with 1 Axes>"
      ]
     },
     "metadata": {
      "needs_background": "light"
     },
     "output_type": "display_data"
    }
   ],
   "source": [
    "u = np.linspace(-1, 1.5, 50)\n",
    "v = np.linspace(-1, 1.5, 50)\n",
    "z = np.zeros(shape=(len(u), len(v)))\n",
    "for i in range(len(u)):\n",
    "    for j in range(len(v)):\n",
    "        z[i, j] = (map_feature(np.array(u[i]), np.array(v[j])).dot(np.array(bfgs_theta)))\n",
    "\n",
    "z = z.T\n",
    "plt.figure()\n",
    "ax = data2.loc[data2.accepted == 1].plot(x='test1', y='test2', style=['+'], label='accepted')\n",
    "data2.loc[data2.accepted == 0].plot(x='test1', y='test2', style=['o'], label='rejected', ax=ax)\n",
    "ax.contour(u, v, z)\n",
    "ax.set_ylabel('Test 2')\n",
    "ax.set_xlabel('Test 1')\n",
    "plt.show()"
   ]
  },
  {
   "cell_type": "markdown",
   "metadata": {},
   "source": [
    "### Попробуйте различные значения параметра регуляризации λ. Как выбор данного значения влияет на вид разделяющей кривой? Ответ дайте в виде графиков."
   ]
  },
  {
   "cell_type": "code",
   "execution_count": 217,
   "metadata": {},
   "outputs": [
    {
     "data": {
      "text/plain": [
       "<Figure size 432x288 with 0 Axes>"
      ]
     },
     "metadata": {},
     "output_type": "display_data"
    },
    {
     "data": {
      "image/png": "[encoded data removed]",
      "text/plain": [
       "<Figure size 432x288 with 1 Axes>"
      ]
     },
     "metadata": {
      "needs_background": "light"
     },
     "output_type": "display_data"
    }
   ],
   "source": [
    "def train_with_plot(l):\n",
    "    \n",
    "    def plot(theta):\n",
    "        u = np.linspace(-1, 1.5, 50)\n",
    "        v = np.linspace(-1, 1.5, 50)\n",
    "        z = np.zeros(shape=(len(u), len(v)))\n",
    "        for i in range(len(u)):\n",
    "            for j in range(len(v)):\n",
    "                z[i, j] = (map_feature(np.array(u[i]), np.array(v[j])).dot(np.array(theta)))\n",
    "\n",
    "        z = z.T\n",
    "        plt.figure()\n",
    "        ax = data2.loc[data2.accepted == 1].plot(x='test1', y='test2', style=['+'], label='accepted')\n",
    "        data2.loc[data2.accepted == 0].plot(x='test1', y='test2', style=['o'], label='rejected', ax=ax)\n",
    "        ax.contour(u, v, z)\n",
    "        ax.set_ylabel('Test 2')\n",
    "        ax.set_xlabel('Test 1')\n",
    "        plt.title(f'lambda = {l}')\n",
    "        plt.show()\n",
    "        \n",
    "    initial_theta = np.zeros(shape=(mapped.shape[1], 1))\n",
    "    theta, _ = gradient_descent(mapped, y, initial_theta, l, 0.2, 1000)\n",
    "    data2 = pd.DataFrame(data_row2, columns=list(['test1', 'test2', 'accepted']))\n",
    "\n",
    "    plot(theta)\n",
    "    \n",
    "train_with_plot(0)\n",
    "    "
   ]
  },
  {
   "cell_type": "code",
   "execution_count": 200,
   "metadata": {},
   "outputs": [
    {
     "data": {
      "text/plain": [
       "<Figure size 432x288 with 0 Axes>"
      ]
     },
     "metadata": {},
     "output_type": "display_data"
    },
    {
     "data": {
      "image/png": "[encoded data removed]",
      "text/plain": [
       "<Figure size 432x288 with 1 Axes>"
      ]
     },
     "metadata": {
      "needs_background": "light"
     },
     "output_type": "display_data"
    }
   ],
   "source": [
    "train_with_plot(100)"
   ]
  },
  {
   "cell_type": "markdown",
   "metadata": {},
   "source": [
    "### Загрузите данные ex2data3.mat из файла."
   ]
  },
  {
   "cell_type": "code",
   "execution_count": 225,
   "metadata": {},
   "outputs": [],
   "source": [
    "import scipy.io\n",
    "\n",
    "data3 = scipy.io.loadmat('ex2data3.mat')\n",
    "x = np.array(data3['X'])\n",
    "y = np.squeeze(data3['y'])\n",
    "np.place(y, y == 10, 0)\n",
    "n = x.shape[1]\n",
    "m = x.shape[0]\n",
    "labels_count = 10"
   ]
  },
  {
   "cell_type": "markdown",
   "metadata": {},
   "source": [
    "### Визуализируйте несколько случайных изображений из набора данных. Визуализация должна содержать каждую цифру как минимум один раз."
   ]
  },
  {
   "cell_type": "code",
   "execution_count": 232,
   "metadata": {},
   "outputs": [
    {
     "data": {
      "image/png": "[encoded data removed]",
      "text/plain": [
       "<Figure size 576x576 with 64 Axes>"
      ]
     },
     "metadata": {},
     "output_type": "display_data"
    }
   ],
   "source": [
    "import matplotlib.image as mpimg\n",
    "\n",
    "subplots = 64\n",
    "draw_seed = np.random.randint(low=0, high=x.shape[0], size=subplots)\n",
    "draw_rows = x[draw_seed]\n",
    "fig, ax = plt.subplots(8, 8, figsize=(8, 8))\n",
    "for i, axi in enumerate(ax.flat):\n",
    "    data = np.reshape(draw_rows[i], (20, 20), order='F')\n",
    "    axi.imshow(data, cmap='binary')\n",
    "    axi.set(xticks=[], yticks=[])\n",
    "\n",
    "plt.show()"
   ]
  },
  {
   "cell_type": "markdown",
   "metadata": {},
   "source": [
    "### Реализуйте бинарный классификатор с помощью логистической регрессии с использованием векторизации (функции потерь и градиентного спуска).\n",
    "### Добавьте L2-регуляризацию к модели.\n",
    "### Реализуйте многоклассовую классификацию по методу “один против всех”."
   ]
  },
  {
   "cell_type": "code",
   "execution_count": 230,
   "metadata": {},
   "outputs": [],
   "source": [
    "X = np.ones(shape=(x.shape[0], x.shape[1] + 1))\n",
    "X[:, 1:] = x\n",
    "classifiers = np.zeros(shape=(labels_count, n + 1))\n",
    "for i in range(0, labels_count):\n",
    "    label = (y == i).astype(int)\n",
    "    initial_theta = np.zeros(shape=(X.shape[1], 1))\n",
    "    theta, costs = gradient_descent(X, label, initial_theta, 0.4, 2.8, 10000)\n",
    "    classifiers[i, :] = np.squeeze(theta)"
   ]
  },
  {
   "cell_type": "markdown",
   "metadata": {},
   "source": [
    "### Реализуйте функцию предсказания класса по изображению с использованием обученных классификаторов."
   ]
  },
  {
   "cell_type": "code",
   "execution_count": 227,
   "metadata": {},
   "outputs": [],
   "source": [
    "def predict_class(input, classifiers):\n",
    "    class_probs = sigmoid(input @ classifiers.transpose())\n",
    "    if len(class_probs.shape) == 1:\n",
    "        class_probs.shape = (1, class_probs.shape[0])\n",
    "    predictions = class_probs.argmax(axis=1)\n",
    "    return predictions"
   ]
  },
  {
   "cell_type": "markdown",
   "metadata": {},
   "source": [
    "### Процент правильных классификаций на обучающей выборке должен составлять около 95%."
   ]
  },
  {
   "cell_type": "code",
   "execution_count": 229,
   "metadata": {},
   "outputs": [
    {
     "name": "stdout",
     "output_type": "stream",
     "text": [
      "Training accuracy: 94.74000000000001\n"
     ]
    }
   ],
   "source": [
    "predictions = predict_class(X, classifiers)\n",
    "print(f'Training accuracy: {str(100 * np.mean(predictions == y))}')"
   ]
  },
  {
   "cell_type": "markdown",
   "metadata": {},
   "source": [
    "## Вывод\n",
    "В данной лабораторной работе была показана работа модели логистической регрессии, реализована L2-регуляризацию для логистической регрессии, реализован бинарный классификатор с помощью логистической регрессии, который использовался для реализации многоклассового классификатора по методу \"один против всех\".\n"
   ]
  }
 ],
 "metadata": {
  "kernelspec": {
   "display_name": "Python 3",
   "language": "python",
   "name": "python3"
  },
  "language_info": {
   "codemirror_mode": {
    "name": "ipython",
    "version": 3
   },
   "file_extension": ".py",
   "mimetype": "text/x-python",
   "name": "python",
   "nbconvert_exporter": "python",
   "pygments_lexer": "ipython3",
   "version": "3.7.4"
  }
 },
 "nbformat": 4,
 "nbformat_minor": 4
}
